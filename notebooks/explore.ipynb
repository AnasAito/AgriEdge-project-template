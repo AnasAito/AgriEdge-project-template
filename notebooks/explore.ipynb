{
 "cells": [
  {
   "cell_type": "code",
   "execution_count": null,
   "metadata": {},
   "outputs": [],
   "source": [
    "## use this to import from agri module (if in drive )\n",
    "%cd /content/drive/MyDrive/All_Projects/agri_py_test/agripy\n",
    "from test import func\n",
    "func('hello')"
   ]
  }
 ],
 "metadata": {},
 "nbformat": 4,
 "nbformat_minor": 4
}